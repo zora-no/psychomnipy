{
  "nbformat": 4,
  "nbformat_minor": 0,
  "metadata": {
    "colab": {
      "name": "Untitled0.ipynb",
      "provenance": [],
      "collapsed_sections": []
    },
    "kernelspec": {
      "name": "python3",
      "display_name": "Python 3"
    },
    "language_info": {
      "name": "python"
    }
  },
  "cells": [
    {
      "cell_type": "code",
      "metadata": {
        "id": "mEQKoLGjRoE8"
      },
      "source": [
        "import pandas as pd\n",
        "import numpy as np\n",
        "import re\n",
        "import seaborn as sns\n",
        "import matplotlib.pyplot as plt\n",
        "from scipy import stats"
      ],
      "execution_count": 45,
      "outputs": []
    },
    {
      "cell_type": "code",
      "metadata": {
        "id": "CEVzfxOqRwTt"
      },
      "source": [
        "runtimes_osdriver_inside_file = open(\"runtimes_osdriver_inside\", \"r\").read()\n",
        "runtimes_osdriver_outside_file = open(\"runtimes_osdriver_outside\", \"r\").read()"
      ],
      "execution_count": 46,
      "outputs": []
    },
    {
      "cell_type": "code",
      "metadata": {
        "id": "eJkgWK_KSQ-a"
      },
      "source": [
        "runtimes_osdriver_inside = pd.DataFrame(columns = ['user', 'system', 'elapsed'])\n",
        "runtimes_osdriver_outside = pd.DataFrame(columns = ['user', 'system', 'elapsed'])"
      ],
      "execution_count": 47,
      "outputs": []
    },
    {
      "cell_type": "code",
      "metadata": {
        "id": "_1t4pR-IW3rH"
      },
      "source": [
        "def filldf(file, df):\n",
        "  user = re.findall('(\\d+[.,]?\\d*)user', file)\n",
        "  user = [float(x) for x in user]\n",
        "  df[\"user\"] = np.array(user)\n",
        "\n",
        "  system = re.findall('(\\d+[.,]?\\d*)system', file)\n",
        "  system = [float(x) for x in system]\n",
        "  df[\"system\"] = np.array(system)\n",
        "\n",
        "  elapsed = re.findall('(\\d+[.,]?\\d*)elapsed', file)\n",
        "  elapsed = [float(x) for x in elapsed]\n",
        "  df[\"elapsed\"] = np.array(elapsed)"
      ],
      "execution_count": 48,
      "outputs": []
    },
    {
      "cell_type": "code",
      "metadata": {
        "id": "BqPQp5baX1nj"
      },
      "source": [
        "filldf(runtimes_osdriver_inside_file, runtimes_osdriver_inside)\n",
        "filldf(runtimes_osdriver_outside_file, runtimes_osdriver_outside)"
      ],
      "execution_count": 49,
      "outputs": []
    },
    {
      "cell_type": "code",
      "metadata": {
        "id": "Wu5t3OidYghA"
      },
      "source": [
        "def createSubplotHist(data, x, ax, title):\n",
        "  '''\n",
        "    data is a pandas data frame\n",
        "    x is the variable to be plotted (str)\n",
        "    ax is the ax object\n",
        "    title is the title of the subplot (str)\n",
        "  '''\n",
        "  sns.histplot(data=data, x=data[x], ax=ax, bins=40, color='steelblue')\n",
        "  ax.axvline(data[x].mean(),color='black',lw=2)\n",
        "  ax.set_title(title, pad=20)\n",
        "  ax.set_xlabel('')\n",
        "  ax.set_ylabel('')"
      ],
      "execution_count": 50,
      "outputs": []
    },
    {
      "cell_type": "code",
      "metadata": {
        "colab": {
          "base_uri": "https://localhost:8080/",
          "height": 664
        },
        "id": "E0bqLgPyYmR6",
        "outputId": "80132a45-22b7-4b7e-b672-a01e0d686a9a"
      },
      "source": [
        "fig, axes = plt.subplots(nrows=2, ncols=3, figsize=(15,10), sharey=True)\n",
        "fig.suptitle('Runtimes (s) on Linux', fontsize=16)\n",
        "plt.subplots_adjust(wspace=0.3, hspace=0.3)\n",
        "ax = axes.ravel()\n",
        "\n",
        "createSubplotHist(runtimes_osdriver_inside, \"user\", ax[0], \"docker - user time\")\n",
        "createSubplotHist(runtimes_osdriver_inside, \"system\", ax[1], \"docker - system time\")\n",
        "createSubplotHist(runtimes_osdriver_inside, \"elapsed\", ax[2], \"docker - elapsed time\")\n",
        "createSubplotHist(runtimes_osdriver_outside, \"user\", ax[3], \"normal - user time\")\n",
        "createSubplotHist(runtimes_osdriver_outside, \"system\", ax[4], \"normal - system time\")\n",
        "createSubplotHist(runtimes_osdriver_outside, \"elapsed\", ax[5], \"normal - elapsed time\")\n",
        "\n",
        "for i, col in zip(range(0,6), [\"user\", \"system\", \"elapsed\"]*2):\n",
        "  ax[i].set_xlim([min(runtimes_osdriver_inside[col].min(), runtimes_osdriver_outside[col].min()), max(runtimes_osdriver_inside[col].max(), runtimes_osdriver_outside[col].max())])\n",
        "\n",
        "sns.despine()"
      ],
      "execution_count": 51,
      "outputs": [
        {
          "output_type": "display_data",
          "data": {
            "image/png": "[encoded data removed]",
            "text/plain": [
              "<Figure size 1080x720 with 6 Axes>"
            ]
          },
          "metadata": {
            "needs_background": "light"
          }
        }
      ]
    },
    {
      "cell_type": "code",
      "metadata": {
        "colab": {
          "base_uri": "https://localhost:8080/"
        },
        "id": "_fZ8rN8K2cSP",
        "outputId": "d7bf6df8-4fa2-4035-87b6-641e66c991d0"
      },
      "source": [
        "testuser = stats.ttest_ind(runtimes_osdriver_inside.user, runtimes_osdriver_outside.user)\n",
        "testsystem = stats.ttest_ind(runtimes_osdriver_inside.system, runtimes_osdriver_outside.system)\n",
        "testelapsed = stats.ttest_ind(runtimes_osdriver_inside.elapsed, runtimes_osdriver_outside.elapsed)\n",
        "\n",
        "for result, time in zip([testuser, testsystem, testelapsed], [\"user\", \"system\", \"elapsed\"]):\n",
        "  if result.pvalue > 0.05:\n",
        "    print(\"There is no significant difference of\", time, \"runtimes when using docker compared to when not using docker\")\n",
        "    print(\"\")\n",
        "  else:\n",
        "    if result.pvalue < 0.001:\n",
        "      print(\"Significant difference of\", time, \"runtimes? \", \"p < 0.001, t-statistic =\", '{0:.2f}'.format(result.statistic))\n",
        "      print(\"Mean runtime with docker:\", '{0:.2f}'.format(runtimes_osdriver_inside[time].mean()))\n",
        "      print(\"Mean runtime without docker:\", '{0:.2f}'.format(runtimes_osdriver_outside[time].mean()))\n",
        "      print(\"\")\n",
        "    else:\n",
        "      print(\"Significant difference of\", time, \"runtimes? \", \"p = \", '{0:.3f}'.format(result.pvalue), \", t-statistic =\", '{0:.2f}'.format(result.statistic))\n",
        "      print(\"Mean runtime with docker:\", '{0:.2f}'.format(runtimes_osdriver_inside[time].mean()))\n",
        "      print(\"Mean runtime without docker:\", '{0:.2f}'.format(runtimes_osdriver_outside[time].mean()))\n",
        "      print(\"\")"
      ],
      "execution_count": 52,
      "outputs": [
        {
          "output_type": "stream",
          "text": [
            "Significant difference of user runtimes?  p < 0.001, t-statistic = -48.42\n",
            "Mean runtime with docker: 2.20\n",
            "Mean runtime without docker: 2.79\n",
            "\n",
            "Significant difference of system runtimes?  p < 0.001, t-statistic = -35.46\n",
            "Mean runtime with docker: 3.50\n",
            "Mean runtime without docker: 4.00\n",
            "\n",
            "Significant difference of elapsed runtimes?  p < 0.001, t-statistic = -35.62\n",
            "Mean runtime with docker: 2.08\n",
            "Mean runtime without docker: 2.39\n",
            "\n"
          ],
          "name": "stdout"
        }
      ]
    }
  ]
}