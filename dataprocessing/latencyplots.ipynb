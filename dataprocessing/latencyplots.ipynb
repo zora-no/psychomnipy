{
 "cells": [
  {
   "cell_type": "code",
   "execution_count": 2,
   "id": "edd8f31f",
   "metadata": {},
   "outputs": [],
   "source": [
    "from scipy.io import loadmat\n",
    "import matplotlib.pyplot as plt"
   ]
  },
  {
   "cell_type": "code",
   "execution_count": 27,
   "id": "0d492707",
   "metadata": {},
   "outputs": [],
   "source": [
    "ohne = loadmat(\"/home/pbr-student/Downloads/anteep/ANTeepimport1.13/ohnedocker.mat\")['x'][0]\n",
    "innerhalb = loadmat(\"/home/pbr-student/Downloads/anteep/ANTeepimport1.13/innerhalbdocker.mat\")['x'][0]"
   ]
  },
  {
   "cell_type": "code",
   "execution_count": 34,
   "id": "68600643",
   "metadata": {},
   "outputs": [
    {
     "data": {
      "text/plain": [
       "((3072, 1354), (3072, 191))"
      ]
     },
     "execution_count": 34,
     "metadata": {},
     "output_type": "execute_result"
    }
   ],
   "source": [
    "innerhalb.shape, ohne.shape"
   ]
  },
  {
   "cell_type": "code",
   "execution_count": 30,
   "id": "2eb4f5a1",
   "metadata": {},
   "outputs": [
    {
     "data": {
      "text/plain": [
       "-3540.0015"
      ]
     },
     "execution_count": 30,
     "metadata": {},
     "output_type": "execute_result"
    }
   ],
   "source": [
    "ohne[0][0]"
   ]
  },
  {
   "cell_type": "code",
   "execution_count": 36,
   "id": "a2c6f923",
   "metadata": {},
   "outputs": [
    {
     "data": {
      "text/plain": [
       "[<matplotlib.lines.Line2D at 0x7f69e76029d0>]"
      ]
     },
     "execution_count": 36,
     "metadata": {},
     "output_type": "execute_result"
    },
    {
     "data": {
      "image/png": "[encoded data removed]",
      "text/plain": [
       "<Figure size 432x288 with 1 Axes>"
      ]
     },
     "metadata": {
      "needs_background": "light"
     },
     "output_type": "display_data"
    }
   ],
   "source": [
    "x = 2\n",
    "plt.plot(ohne[x])\n",
    "plt.plot(innerhalb[x])"
   ]
  }
 ],
 "metadata": {
  "kernelspec": {
   "display_name": "Python 3 (ipykernel)",
   "language": "python",
   "name": "python3"
  },
  "language_info": {
   "codemirror_mode": {
    "name": "ipython",
    "version": 3
   },
   "file_extension": ".py",
   "mimetype": "text/x-python",
   "name": "python",
   "nbconvert_exporter": "python",
   "pygments_lexer": "ipython3",
   "version": "3.8.10"
  }
 },
 "nbformat": 4,
 "nbformat_minor": 5
}
